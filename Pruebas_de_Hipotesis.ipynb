{
  "nbformat": 4,
  "nbformat_minor": 0,
  "metadata": {
    "colab": {
      "provenance": [],
      "authorship_tag": "ABX9TyM7zloOcP1mtqxj3/2f0tBP",
      "include_colab_link": true
    },
    "kernelspec": {
      "name": "python3",
      "display_name": "Python 3"
    },
    "language_info": {
      "name": "python"
    }
  },
  "cells": [
    {
      "cell_type": "markdown",
      "metadata": {
        "id": "view-in-github",
        "colab_type": "text"
      },
      "source": [
        "<a href=\"https://colab.research.google.com/github/gonzalezzayra/ESTADISTICA/blob/main/Pruebas_de_Hipotesis.ipynb\" target=\"_parent\"><img src=\"https://colab.research.google.com/assets/colab-badge.svg\" alt=\"Open In Colab\"/></a>"
      ]
    },
    {
      "cell_type": "code",
      "execution_count": 9,
      "metadata": {
        "id": "Pyz3Pgy5zgsX",
        "colab": {
          "base_uri": "https://localhost:8080/"
        },
        "outputId": "9011d8f7-8693-4a56-eece-2114f96d355a"
      },
      "outputs": [
        {
          "output_type": "stream",
          "name": "stdout",
          "text": [
            "Estadístico t: 2.3094\n",
            "Valor p: 0.0207\n",
            "Se rechaza la hipótesis nula\n"
          ]
        }
      ],
      "source": [
        "import numpy as np\n",
        "from scipy.stats import t\n",
        "\n",
        "#Hipótesis nula: rendimiento promedio < = 1%\n",
        "#Hipótesis alternativa: rendimiento promedio > 1%\n",
        "\n",
        "#Datos\n",
        "mu_0 = 1.0\n",
        "x_bar = 1.4  #Media muestral\n",
        "s = 0.6  #Desviación estándar\n",
        "n = 12  #Tamaño de la muestra\n",
        "alpha = 0.05  # Nivel de significancia\n",
        "\n",
        "#Calcular el estadístico t\n",
        "\n",
        "t_cal = (x_bar - mu_0) / (s / np.sqrt(n))\n",
        "\n",
        "#Grados de libertad\n",
        "gl = n - 1\n",
        "\n",
        "#Calcular el valor p (prueba de una cola, queremos saber si es mayor)\n",
        "p_value = 1 - t.cdf(t_cal, gl)\n",
        "\n",
        "\n",
        "#Resultados\n",
        "print(f\"Estadístico t: {t_cal:.4f}\")\n",
        "print(f\"Valor p: {p_value:.4f}\")\n",
        "if p_value < alpha:\n",
        "    print(\"Se rechaza la hipótesis nula\")\n",
        "else:\n",
        "    print(\"No se rechaza la hipótesis nula\")"
      ]
    },
    {
      "cell_type": "code",
      "source": [
        "#Ejercicio 2\n",
        "#Hipótesis nula: rendimiento promedio = 6%\n",
        "#Hipótesis alternativa: rendimiento promedio diferente 6%\n",
        "\n",
        "#Datos\n",
        "mu_0 = 6.0\n",
        "x_bar = 5.2  #Media muestral\n",
        "s = 1.8  #Desviación estándar muestral\n",
        "n = 30  #Tamaño de la muestra\n",
        "alpha = 0.05  #Nivel de significancia\n",
        "\n",
        "#Calcular el estadístico t\n",
        "t_cal = (x_bar - mu_0) / (s / np.sqrt(n))\n",
        "\n",
        "# Grados de libertad\n",
        "gl = n - 1\n",
        "\n",
        "# Calcular el valor p (prueba de dos colas, queremos saber si es diferente)\n",
        "p_value = 2 * (1 - t.cdf(abs(t_cal), gl))\n",
        "\n",
        "# Imprimir resultados\n",
        "print(f\"Estadístico t: {t_cal:.4f}\")\n",
        "print(f\"Valor p: {p_value:.4f}\")\n",
        "if p_value < alpha:\n",
        "    print(\"Se rechaza la hipótesis nula\")\n",
        "else:\n",
        "    print(\"No se rechaza la hipótesis nula\")"
      ],
      "metadata": {
        "id": "sIUoDOcR0I29",
        "colab": {
          "base_uri": "https://localhost:8080/"
        },
        "outputId": "6661d925-7211-40d6-df1f-d93238f4c4da"
      },
      "execution_count": 11,
      "outputs": [
        {
          "output_type": "stream",
          "name": "stdout",
          "text": [
            "Estadístico t: -2.4343\n",
            "Valor p: 0.0213\n",
            "Se rechaza la hipótesis nula\n"
          ]
        }
      ]
    },
    {
      "cell_type": "code",
      "source": [
        "#Ejercicio 3\n",
        "#En este se necesita la normal, por el tamaño de muestra\n",
        "from scipy.stats import norm\n",
        "\n",
        "#Datos\n",
        "mu_0 = 150\n",
        "x_bar = 147  #Media muestral\n",
        "sigma = 5  #Desviación estándar\n",
        "n = 36  #Tamaño de la muestra\n",
        "alpha = 0.01  #Nivel de significancia\n",
        "\n",
        "#Calcular z\n",
        "\n",
        "z_stat = (x_bar - mu_0) / (sigma / np.sqrt(n))\n",
        "\n",
        "# Calcular el valor p (prueba de dos colas, queremos saber si ha cambiado)\n",
        "p_value = 2 * (1 - norm.cdf(abs(z_stat)))\n",
        "\n",
        "# Imprimir resultados\n",
        "print(f\"Estadístico z: {z_stat:.4f}\")\n",
        "print(f\"Valor p: {p_value:.4f}\")\n",
        "if p_value < alpha:\n",
        "    print(\"Se rechaza la hipótesis nula\")\n",
        "else:\n",
        "    print(\"No se rechaza la hipótesis nula\")"
      ],
      "metadata": {
        "id": "_kTVebX50KA6",
        "colab": {
          "base_uri": "https://localhost:8080/"
        },
        "outputId": "2fc6795d-de10-41ad-dafc-577eda88bf44"
      },
      "execution_count": 12,
      "outputs": [
        {
          "output_type": "stream",
          "name": "stdout",
          "text": [
            "Estadístico z: -3.6000\n",
            "Valor p: 0.0003\n",
            "Se rechaza la hipótesis nula\n"
          ]
        }
      ]
    },
    {
      "cell_type": "code",
      "source": [
        "#Ejercicio 4\n",
        "#Datos\n",
        "mu_0 = 8.0\n",
        "x_bar = 8.9  # Media muestral = 8.9%\n",
        "s = 1.5  # Desviación estándar muestral\n",
        "n = 25  # Tamaño de la muestra\n",
        "alpha = 0.01  # Nivel de significancia\n",
        "\n",
        "#Calcular el estadístico t\n",
        "t_cal = (x_bar - mu_0) / (s / np.sqrt(n))\n",
        "\n",
        "#Grados de libertad\n",
        "gl = n - 1\n",
        "\n",
        "#Calcular el valor p (prueba de una cola, queremos saber si es mayor)\n",
        "p_value = 1 - t.cdf(t_cal, gl)\n",
        "\n",
        "#Imprimir resultados\n",
        "\n",
        "print(f\"Estadístico t: {t_cal:.4f}\")\n",
        "print(f\"Valor p: {p_value:.4f}\")\n",
        "if p_value < alpha:\n",
        "    print(\"Se rechaza la hipótesis nula\")\n",
        "else:\n",
        "    print(\"No se rechaza la hipótesis nula\")"
      ],
      "metadata": {
        "id": "35PSOIO50Mur",
        "colab": {
          "base_uri": "https://localhost:8080/"
        },
        "outputId": "514031f5-6c39-422f-b9b7-7d86e12e2157"
      },
      "execution_count": 14,
      "outputs": [
        {
          "output_type": "stream",
          "name": "stdout",
          "text": [
            "Estadístico t: 3.0000\n",
            "Valor p: 0.0031\n",
            "Se rechaza la hipótesis nula\n"
          ]
        }
      ]
    }
  ]
}