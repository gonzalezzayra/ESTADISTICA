{
  "nbformat": 4,
  "nbformat_minor": 0,
  "metadata": {
    "colab": {
      "provenance": [],
      "authorship_tag": "ABX9TyNbckVPCQQWJZL7zqhhryuT",
      "include_colab_link": true
    },
    "kernelspec": {
      "name": "python3",
      "display_name": "Python 3"
    },
    "language_info": {
      "name": "python"
    }
  },
  "cells": [
    {
      "cell_type": "markdown",
      "metadata": {
        "id": "view-in-github",
        "colab_type": "text"
      },
      "source": [
        "<a href=\"https://colab.research.google.com/github/gonzalezzayra/ESTADISTICA/blob/main/Pruebas_de_Hipotesis_2.ipynb\" target=\"_parent\"><img src=\"https://colab.research.google.com/assets/colab-badge.svg\" alt=\"Open In Colab\"/></a>"
      ]
    },
    {
      "cell_type": "code",
      "execution_count": 13,
      "metadata": {
        "colab": {
          "base_uri": "https://localhost:8080/"
        },
        "id": "G6aFVPtA3pnP",
        "outputId": "101342a1-f26c-418d-c853-e3d4fb9ee2a6"
      },
      "outputs": [
        {
          "output_type": "stream",
          "name": "stdout",
          "text": [
            "Estadístico Z = -1.9949\n",
            "Valor crítico (Zα) = -1.6449\n",
            "Valor p = 0.0230\n",
            "Rechazamos H0\n"
          ]
        }
      ],
      "source": [
        "#Ejercicio 1\n",
        "#Hipotesis nula: p=>  0.35\n",
        "#Hipotesis alternativa: p < 0.35\n",
        "\n",
        "import numpy as np\n",
        "from scipy.stats import norm\n",
        "\n",
        "#Datos\n",
        "n = 105\n",
        "x = 27\n",
        "p0 = 0.35\n",
        "alpha = 0.05\n",
        "\n",
        "#Proporción muestral\n",
        "p_hat = x / n\n",
        "\n",
        "# Estadístico Z\n",
        "z_stat = (p_hat - p0) / np.sqrt(p0 * (1 - p0) / n)\n",
        "\n",
        "#Valor crítico (cola izquierda)\n",
        "z_critical = norm.ppf(alpha)\n",
        "\n",
        "#Valor p\n",
        "p_value = norm.cdf(z_stat)\n",
        "\n",
        "#Resultados\n",
        "print(f\"Estadístico Z = {z_stat:.4f}\")\n",
        "print(f\"Valor crítico (Zα) = {z_critical:.4f}\")\n",
        "print(f\"Valor p = {p_value:.4f}\")\n",
        "\n",
        "\n",
        "if z_stat < z_critical:\n",
        "    print(\"Rechazamos H0\")\n",
        "else:\n",
        "    print(\"No rechazamos H0\")"
      ]
    },
    {
      "cell_type": "code",
      "source": [
        "#Ejercicio 2\n",
        "#Hipotesis nula: p = 0.5\n",
        "#Hipotesis alternativa: p diferente 0.5\n",
        "\n",
        "from statsmodels.stats.proportion import proportions_ztest\n",
        "\n",
        "#Datos\n",
        "n = 200\n",
        "x = 112\n",
        "p0 = 0.50\n",
        "alpha = 0.05\n",
        "\n",
        "#Prueba de hipótesis\n",
        "count = np.array([x])\n",
        "nobs = np.array([n])\n",
        "z_stat, p_value = proportions_ztest(count, nobs, value=p0, alternative='two-sided')\n",
        "\n",
        "#Valores críticos\n",
        "z_critical_left = norm.ppf(alpha/2)\n",
        "z_critical_right = norm.ppf(1 - alpha/2)\n",
        "\n",
        "#Resultados\n",
        "print(\"Estadístico Z\", z_stat )\n",
        "print(f\"Valores críticos: ±{abs(z_critical_left):.4f}\")\n",
        "print(\"Valor de p\", p_value)\n",
        "\n",
        "if p_value < alpha:\n",
        "    print(\"Rechazamos H0\")\n",
        "else:\n",
        "    print(\"No rechazamos H0\")"
      ],
      "metadata": {
        "colab": {
          "base_uri": "https://localhost:8080/"
        },
        "id": "XuKwrYpO37XQ",
        "outputId": "7f1960db-a93a-4940-ab97-7d16f0419995"
      },
      "execution_count": 14,
      "outputs": [
        {
          "output_type": "stream",
          "name": "stdout",
          "text": [
            "Estadístico Z [1.70940865]\n",
            "Valores críticos: ±1.9600\n",
            "Valor de p [0.08737528]\n",
            "No rechazamos H0\n"
          ]
        }
      ]
    },
    {
      "cell_type": "code",
      "source": [
        "#Ejercicio 3\n",
        "from scipy.stats import chi2\n",
        "\n",
        "#Hipotesis nula: \\sigma^2 <= 0.04\n",
        "#Hipotesis alternativa: \\sigma^2 > 0.04\n",
        "\n",
        "#Datos\n",
        "n = 20\n",
        "s2 = 0.065\n",
        "sigma = 0.04\n",
        "alpha = 0.05\n",
        "gl = n - 1\n",
        "\n",
        "#Estadístico chi-cuadrado\n",
        "chi2_stat = (gl * s2) / sigma\n",
        "\n",
        "#Valor crítico (cola derecha)\n",
        "chi2_critical = chi2.ppf(1 - alpha, gl)\n",
        "\n",
        "#Valor p\n",
        "p_value = 1 - chi2.cdf(chi2_stat, gl)\n",
        "\n",
        "#Resultados\n",
        "print(f\"Estadístico χ² = {chi2_stat:.4f}\")\n",
        "print(f\"Valor crítico = {chi2_critical:.4f}\")\n",
        "print(f\"Valor p = {p_value:.4f}\")\n",
        "\n",
        "if chi2_stat > chi2_critical:\n",
        "    print(\"Rechazamos H0\")\n",
        "else:\n",
        "    print(\"No rechazamos H0\")"
      ],
      "metadata": {
        "colab": {
          "base_uri": "https://localhost:8080/"
        },
        "id": "XbPN7sin4bwe",
        "outputId": "caf2b6a7-c8a3-419a-deac-745322847c44"
      },
      "execution_count": 15,
      "outputs": [
        {
          "output_type": "stream",
          "name": "stdout",
          "text": [
            "Estadístico χ² = 30.8750\n",
            "Valor crítico = 30.1435\n",
            "Valor p = 0.0417\n",
            "Rechazamos H0\n"
          ]
        }
      ]
    }
  ]
}